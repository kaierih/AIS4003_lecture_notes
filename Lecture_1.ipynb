{
 "cells": [
  {
   "cell_type": "markdown",
   "id": "7869e2ba-0edf-4c94-a1f0-4062f98c5daf",
   "metadata": {},
   "source": [
    "# Simple data analysis demo"
   ]
  },
  {
   "cell_type": "code",
   "execution_count": null,
   "id": "bd88d414-ff2e-4f55-b821-f264ce0ff0f7",
   "metadata": {},
   "outputs": [],
   "source": []
  }
 ],
 "metadata": {
  "kernelspec": {
   "display_name": "Python 3 (ipykernel)",
   "language": "python",
   "name": "python3"
  },
  "language_info": {
   "codemirror_mode": {
    "name": "ipython",
    "version": 3
   },
   "file_extension": ".py",
   "mimetype": "text/x-python",
   "name": "python",
   "nbconvert_exporter": "python",
   "pygments_lexer": "ipython3",
   "version": "3.11.5"
  }
 },
 "nbformat": 4,
 "nbformat_minor": 5
}
